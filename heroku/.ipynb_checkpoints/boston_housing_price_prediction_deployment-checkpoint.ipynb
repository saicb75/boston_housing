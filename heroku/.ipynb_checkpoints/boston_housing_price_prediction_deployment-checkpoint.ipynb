{
 "cells": [
  {
   "cell_type": "markdown",
   "metadata": {},
   "source": [
    "# Boston housing prediction  Model Deployment\n",
    "After analysing the given dataset, we have built and saved  model.\n",
    "\n",
    "This Flask application is written to deploy the model in production so that users can supply no of rooms, area parameters and obtain an estimated housing price prediction.\n",
    "\n",
    "There are two deployment models supported:\n",
    "\n",
    "1. Deployment to local machine\n",
    "    1. Just run this notebook in your local machine\n",
    "    \n",
    "2. Deployment to Heroku, which needs\n",
    "    1. Procfile\n",
    "    2. requirements.txt\n",
    "\n",
    "(search for and follow the steps to deploy the complete `deployment` folder, subfolders and contents to Heroku)"
   ]
  },
  {
   "cell_type": "code",
   "execution_count": null,
   "metadata": {},
   "outputs": [],
   "source": [
    "import pandas as pd\n",
    "from flask import Flask, request, render_template, redirect\n",
    "import pickle"
   ]
  },
  {
   "cell_type": "markdown",
   "metadata": {},
   "source": [
    "### Create a flask app"
   ]
  },
  {
   "cell_type": "code",
   "execution_count": null,
   "metadata": {},
   "outputs": [],
   "source": [
    "print(f'Creating a flask app for {__name__}')\n",
    "app = Flask(__name__)"
   ]
  },
  {
   "cell_type": "code",
   "execution_count": null,
   "metadata": {},
   "outputs": [],
   "source": [
    "def load_model(filename):\n",
    "    pklfile = open(filename, 'rb')\n",
    "    lr_model = pickle.load(pklfile)\n",
    "    pklfile.close()\n",
    "    return lr_model"
   ]
  },
  {
   "cell_type": "code",
   "execution_count": null,
   "metadata": {},
   "outputs": [],
   "source": [
    "lr_model_boston_housing = load_model(\"models/boston_housing_model.pkl\")"
   ]
  },
  {
   "cell_type": "markdown",
   "metadata": {},
   "source": [
    "### Establish Routes for Auto mpg Prediction"
   ]
  },
  {
   "cell_type": "code",
   "execution_count": null,
   "metadata": {},
   "outputs": [],
   "source": [
    "#Establish default route\n",
    "@app.route('/')\n",
    "def default():\n",
    "    return redirect('/boston_housing_input')"
   ]
  },
  {
   "cell_type": "code",
   "execution_count": null,
   "metadata": {},
   "outputs": [],
   "source": [
    "# Establish boston hosuing routes\n",
    "@app.route('/boston_housing_input')\n",
    "def boston_housing_input():\n",
    "    return render_template('boston_housing_input.html')\n",
    "\n",
    "@app.route('/boston_housing_predict', methods = ['GET'])\n",
    "def boston_housing_predict():\n",
    "    if request.method == 'GET':\n",
    "        rm = request.args.get('rm')\n",
    "        ptratio = request.args.get('ptratio')\n",
    "        lstat = request.args.get('lstat')\n",
    "               \n",
    "              \n",
    "        data_boston_housing = pd.DataFrame([[rm,ptratio,lstat]])\n",
    "        arr_boston_housing_predict = lr_model_boston_housing.predict(data_boston_housing)[0]\n",
    "        arr_boston_housing_predict = int(round(arr_boston_housing_predict,0))\n",
    "        \n",
    "        return render_template('boston_housing_predict.html',rm = rm, ptratio = ptratio,\n",
    "                               lstat = lstat, \n",
    "                               arr_boston_housing_predict=arr_boston_housing_predict)\n",
    "    \n",
    "    return \"Unsupported request method,{}\".format(request.method),400"
   ]
  },
  {
   "cell_type": "code",
   "execution_count": null,
   "metadata": {},
   "outputs": [],
   "source": [
    "# Run the Flask Web Server\n",
    "if __name__ == '__main__':\n",
    "    app.run()"
   ]
  }
 ],
 "metadata": {
  "kernelspec": {
   "display_name": "Python 3",
   "language": "python",
   "name": "python3"
  },
  "language_info": {
   "codemirror_mode": {
    "name": "ipython",
    "version": 3
   },
   "file_extension": ".py",
   "mimetype": "text/x-python",
   "name": "python",
   "nbconvert_exporter": "python",
   "pygments_lexer": "ipython3",
   "version": "3.8.5"
  }
 },
 "nbformat": 4,
 "nbformat_minor": 4
}
