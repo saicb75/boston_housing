{
 "cells": [
  {
   "cell_type": "markdown",
   "metadata": {},
   "source": [
    "# Boston housing prediction  Model Deployment\n",
    "After analysing the given dataset, we have built and saved  model.\n",
    "\n",
    "This Flask application is written to deploy the model in production so that users can supply no of rooms, area parameters and obtain an estimated housing price prediction.\n",
    "\n",
    "There are two deployment models supported:\n",
    "\n",
    "1. Deployment to local machine\n",
    "    1. Just run this notebook in your local machine\n",
    "    \n",
    "2. Deployment to Heroku, which needs\n",
    "    1. Procfile\n",
    "    2. requirements.txt\n",
    "\n",
    "(search for and follow the steps to deploy the complete `deployment` folder, subfolders and contents to Heroku)"
   ]
  },
  {
   "cell_type": "code",
   "execution_count": 1,
   "metadata": {},
   "outputs": [],
   "source": [
    "import pandas as pd\n",
    "from flask import Flask, request, render_template, redirect\n",
    "import pickle"
   ]
  },
  {
   "cell_type": "markdown",
   "metadata": {},
   "source": [
    "### Create a flask app"
   ]
  },
  {
   "cell_type": "code",
   "execution_count": 2,
   "metadata": {},
   "outputs": [
    {
     "name": "stdout",
     "output_type": "stream",
     "text": [
      "Creating a flask app for __main__\n"
     ]
    }
   ],
   "source": [
    "print(f'Creating a flask app for {__name__}')\n",
    "app = Flask(__name__)"
   ]
  },
  {
   "cell_type": "code",
   "execution_count": 3,
   "metadata": {},
   "outputs": [],
   "source": [
    "def load_model(filename):\n",
    "    pklfile = open(filename, 'rb')\n",
    "    lr_model = pickle.load(pklfile)\n",
    "    pklfile.close()\n",
    "    return lr_model"
   ]
  },
  {
   "cell_type": "code",
   "execution_count": 4,
   "metadata": {},
   "outputs": [],
   "source": [
    "lr_model_boston_housing = load_model(\"models/boston_housing_model.pkl\")"
   ]
  },
  {
   "cell_type": "markdown",
   "metadata": {},
   "source": [
    "### Establish Routes for Auto mpg Prediction"
   ]
  },
  {
   "cell_type": "code",
   "execution_count": 5,
   "metadata": {},
   "outputs": [],
   "source": [
    "#Establish default route\n",
    "@app.route('/')\n",
    "def default():\n",
    "    return redirect('/boston_housing_input')"
   ]
  },
  {
   "cell_type": "code",
   "execution_count": 6,
   "metadata": {},
   "outputs": [],
   "source": [
    "# Establish boston hosuing routes\n",
    "@app.route('/boston_housing_input')\n",
    "def boston_housing_input():\n",
    "    return render_template('boston_housing_input.html')\n",
    "\n",
    "@app.route('/boston_housing_predict', methods = ['GET'])\n",
    "def boston_housing_predict():\n",
    "    if request.method == 'GET':\n",
    "        rm = request.args.get('rm')\n",
    "        ptratio = request.args.get('ptratio')\n",
    "        lstat = request.args.get('lstat')\n",
    "               \n",
    "              \n",
    "        data_boston_housing = pd.DataFrame([[rm,ptratio,lstat]])\n",
    "        arr_boston_housing_predict = lr_model_boston_housing.predict(data_boston_housing)[0]\n",
    "        arr_boston_housing_predict = int(round(arr_boston_housing_predict,0))\n",
    "        \n",
    "        return render_template('boston_housing_predict.html',rm = rm, ptratio = ptratio,\n",
    "                               lstat = lstat, \n",
    "                               arr_boston_housing_predict=arr_boston_housing_predict)\n",
    "    \n",
    "    return \"Unsupported request method,{}\".format(request.method),400"
   ]
  },
  {
   "cell_type": "code",
   "execution_count": 7,
   "metadata": {},
   "outputs": [
    {
     "name": "stdout",
     "output_type": "stream",
     "text": [
      " * Serving Flask app \"__main__\" (lazy loading)\n",
      " * Environment: production\n",
      "   WARNING: This is a development server. Do not use it in a production deployment.\n",
      "   Use a production WSGI server instead.\n",
      " * Debug mode: off\n"
     ]
    },
    {
     "name": "stderr",
     "output_type": "stream",
     "text": [
      " * Running on http://127.0.0.1:5000/ (Press CTRL+C to quit)\n",
      "127.0.0.1 - - [08/Jan/2022 12:30:30] \"\u001b[32mGET / HTTP/1.1\u001b[0m\" 302 -\n",
      "127.0.0.1 - - [08/Jan/2022 12:30:30] \"\u001b[37mGET /boston_housing_input HTTP/1.1\u001b[0m\" 200 -\n",
      "127.0.0.1 - - [08/Jan/2022 12:30:50] \"\u001b[37mGET /boston_housing_predict?rm=5&ptratio=14&lstat=4.98 HTTP/1.1\u001b[0m\" 200 -\n"
     ]
    }
   ],
   "source": [
    "# Run the Flask Web Server\n",
    "if __name__ == '__main__':\n",
    "    app.run()"
   ]
  }
 ],
 "metadata": {
  "kernelspec": {
   "display_name": "Python 3",
   "language": "python",
   "name": "python3"
  },
  "language_info": {
   "codemirror_mode": {
    "name": "ipython",
    "version": 3
   },
   "file_extension": ".py",
   "mimetype": "text/x-python",
   "name": "python",
   "nbconvert_exporter": "python",
   "pygments_lexer": "ipython3",
   "version": "3.8.5"
  }
 },
 "nbformat": 4,
 "nbformat_minor": 4
}
